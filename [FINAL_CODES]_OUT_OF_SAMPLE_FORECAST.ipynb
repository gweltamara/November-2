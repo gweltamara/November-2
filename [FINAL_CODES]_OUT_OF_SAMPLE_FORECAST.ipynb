{
  "cells": [
    {
      "cell_type": "code",
      "execution_count": null,
      "metadata": {
        "colab": {
          "base_uri": "https://localhost:8080/"
        },
        "id": "3dD_yKGBoOGn",
        "outputId": "fdc48582-6e52-492f-9e37-f8cab899bab1"
      },
      "outputs": [
        {
          "name": "stdout",
          "output_type": "stream",
          "text": [
            "       Day        Date  Price        Exp\n",
            "0        1  22/08/2000  32.05  32.050000\n",
            "1        2  23/08/2000  31.63  32.029000\n",
            "2        3  24/08/2000  32.05  32.030050\n",
            "3        4  27/08/2000  32.87  32.072047\n",
            "4        5  28/08/2000  32.72  32.104445\n",
            "...    ...         ...    ...        ...\n",
            "5574  5575  10/11/2022  86.47  87.638763\n",
            "5575  5576  11/11/2022  88.96  87.704824\n",
            "5576  5577  14/11/2022  85.87  87.613083\n",
            "5577  5578  15/11/2022  86.92  87.578429\n",
            "5578  5579  16/11/2022  85.59  87.479008\n",
            "\n",
            "[5579 rows x 4 columns]\n"
          ]
        }
      ],
      "source": [
        "import pandas as pd\n",
        "import io\n",
        "df = pd.read_csv('C:/Users/Tamara/Downloads/FinalData.csv')\n",
        "print(df)"
      ]
    },
    {
      "cell_type": "code",
      "execution_count": null,
      "metadata": {
        "colab": {
          "base_uri": "https://localhost:8080/"
        },
        "id": "Txq31cusBRda",
        "outputId": "31d3defa-ada5-4ddd-839c-b5a0d4963016"
      },
      "outputs": [
        {
          "name": "stdout",
          "output_type": "stream",
          "text": [
            "This is the row number of the dataset: 5579\n",
            "               Day        Price          Exp\n",
            "count  5579.000000  5579.000000  5579.000000\n",
            "mean   2790.000000    63.572345    63.383574\n",
            "std    1610.662907    25.846412    25.416994\n",
            "min       1.000000    10.010000    19.748499\n",
            "25%    1395.500000    43.880000    44.888399\n",
            "50%    2790.000000    60.660000    60.466052\n",
            "75%    4184.500000    84.865000    85.966306\n",
            "max    5579.000000   145.290000   134.713344\n"
          ]
        }
      ],
      "source": [
        "print(\"This is the row number of the dataset:\",len(df))\n",
        "print(df.describe())"
      ]
    },
    {
      "cell_type": "code",
      "execution_count": null,
      "metadata": {
        "id": "uxl3g6zOpJUx"
      },
      "outputs": [],
      "source": [
        "df['Price'] = df['Price'].astype(float)"
      ]
    },
    {
      "cell_type": "code",
      "execution_count": null,
      "metadata": {
        "colab": {
          "base_uri": "https://localhost:8080/",
          "height": 300
        },
        "id": "gqRt2eHjBxnu",
        "outputId": "01df8c62-04a8-4c2a-d055-85cb8ca4ef69"
      },
      "outputs": [
        {
          "data": {
            "text/html": [
              "<div>\n",
              "<style scoped>\n",
              "    .dataframe tbody tr th:only-of-type {\n",
              "        vertical-align: middle;\n",
              "    }\n",
              "\n",
              "    .dataframe tbody tr th {\n",
              "        vertical-align: top;\n",
              "    }\n",
              "\n",
              "    .dataframe thead th {\n",
              "        text-align: right;\n",
              "    }\n",
              "</style>\n",
              "<table border=\"1\" class=\"dataframe\">\n",
              "  <thead>\n",
              "    <tr style=\"text-align: right;\">\n",
              "      <th></th>\n",
              "      <th>Day</th>\n",
              "      <th>Price</th>\n",
              "      <th>Exp</th>\n",
              "    </tr>\n",
              "  </thead>\n",
              "  <tbody>\n",
              "    <tr>\n",
              "      <th>count</th>\n",
              "      <td>5579.000000</td>\n",
              "      <td>5579.000000</td>\n",
              "      <td>5579.000000</td>\n",
              "    </tr>\n",
              "    <tr>\n",
              "      <th>mean</th>\n",
              "      <td>2790.000000</td>\n",
              "      <td>63.572345</td>\n",
              "      <td>63.383574</td>\n",
              "    </tr>\n",
              "    <tr>\n",
              "      <th>std</th>\n",
              "      <td>1610.662907</td>\n",
              "      <td>25.846412</td>\n",
              "      <td>25.416994</td>\n",
              "    </tr>\n",
              "    <tr>\n",
              "      <th>min</th>\n",
              "      <td>1.000000</td>\n",
              "      <td>10.010000</td>\n",
              "      <td>19.748499</td>\n",
              "    </tr>\n",
              "    <tr>\n",
              "      <th>25%</th>\n",
              "      <td>1395.500000</td>\n",
              "      <td>43.880000</td>\n",
              "      <td>44.888399</td>\n",
              "    </tr>\n",
              "    <tr>\n",
              "      <th>50%</th>\n",
              "      <td>2790.000000</td>\n",
              "      <td>60.660000</td>\n",
              "      <td>60.466052</td>\n",
              "    </tr>\n",
              "    <tr>\n",
              "      <th>75%</th>\n",
              "      <td>4184.500000</td>\n",
              "      <td>84.865000</td>\n",
              "      <td>85.966306</td>\n",
              "    </tr>\n",
              "    <tr>\n",
              "      <th>max</th>\n",
              "      <td>5579.000000</td>\n",
              "      <td>145.290000</td>\n",
              "      <td>134.713344</td>\n",
              "    </tr>\n",
              "  </tbody>\n",
              "</table>\n",
              "</div>"
            ],
            "text/plain": [
              "               Day        Price          Exp\n",
              "count  5579.000000  5579.000000  5579.000000\n",
              "mean   2790.000000    63.572345    63.383574\n",
              "std    1610.662907    25.846412    25.416994\n",
              "min       1.000000    10.010000    19.748499\n",
              "25%    1395.500000    43.880000    44.888399\n",
              "50%    2790.000000    60.660000    60.466052\n",
              "75%    4184.500000    84.865000    85.966306\n",
              "max    5579.000000   145.290000   134.713344"
            ]
          },
          "execution_count": 4,
          "metadata": {},
          "output_type": "execute_result"
        }
      ],
      "source": [
        "df.describe()"
      ]
    },
    {
      "cell_type": "code",
      "execution_count": null,
      "metadata": {
        "id": "979-kLZPpM_2"
      },
      "outputs": [],
      "source": [
        "\n",
        "\n",
        "# convert Date column to datetime\n",
        "df['Date'] = pd.to_datetime(df['Date'], format='%d/%m/%Y')\n"
      ]
    },
    {
      "cell_type": "code",
      "execution_count": null,
      "metadata": {
        "id": "Yu-YrxVdp1O7"
      },
      "outputs": [],
      "source": [
        "\n",
        "# drop unnecessary columns\n",
        "df.drop(columns=['Day'], inplace=True)\n",
        "df.drop(columns=['Exp'], inplace=True)\n",
        "# drop rows with missing values\n",
        "df.dropna(inplace=True)"
      ]
    },
    {
      "cell_type": "code",
      "execution_count": null,
      "metadata": {
        "id": "fM59u3MeDaQD"
      },
      "outputs": [],
      "source": [
        "#Now create a copy of df for backup whenever needed after manipulations\n",
        "df2 = df.copy()"
      ]
    },
    {
      "cell_type": "code",
      "execution_count": null,
      "metadata": {
        "colab": {
          "base_uri": "https://localhost:8080/"
        },
        "id": "xGvy7hYXDhZa",
        "outputId": "14c54af5-1d56-4e45-a2ba-b77f93f7bab2"
      },
      "outputs": [
        {
          "name": "stdout",
          "output_type": "stream",
          "text": [
            "           Date  Price\n",
            "0    2000-08-22  32.05\n",
            "1    2000-08-23  31.63\n",
            "2    2000-08-24  32.05\n",
            "3    2000-08-27  32.87\n",
            "4    2000-08-28  32.72\n",
            "...         ...    ...\n",
            "5574 2022-11-10  86.47\n",
            "5575 2022-11-11  88.96\n",
            "5576 2022-11-14  85.87\n",
            "5577 2022-11-15  86.92\n",
            "5578 2022-11-16  85.59\n",
            "\n",
            "[5579 rows x 2 columns]\n"
          ]
        }
      ],
      "source": [
        "print(df2)"
      ]
    },
    {
      "cell_type": "code",
      "execution_count": null,
      "metadata": {
        "id": "1sXHkiDEDnEz"
      },
      "outputs": [],
      "source": [
        "#We have to drop the Date variable since it is not needed for LSTM\n",
        "df2.drop(columns=[\"Date\"],inplace=True)"
      ]
    },
    {
      "cell_type": "code",
      "execution_count": null,
      "metadata": {
        "colab": {
          "base_uri": "https://localhost:8080/"
        },
        "id": "K1VZJooPFQNR",
        "outputId": "e5c2b99d-8163-4c3d-c6dd-e9b00e6f48e3"
      },
      "outputs": [
        {
          "name": "stdout",
          "output_type": "stream",
          "text": [
            "<class 'pandas.core.frame.DataFrame'>\n",
            "RangeIndex: 5579 entries, 0 to 5578\n",
            "Data columns (total 1 columns):\n",
            " #   Column  Non-Null Count  Dtype  \n",
            "---  ------  --------------  -----  \n",
            " 0   Price   5579 non-null   float64\n",
            "dtypes: float64(1)\n",
            "memory usage: 43.7 KB\n"
          ]
        }
      ],
      "source": [
        "df2.info()"
      ]
    },
    {
      "cell_type": "code",
      "execution_count": null,
      "metadata": {
        "colab": {
          "base_uri": "https://localhost:8080/"
        },
        "id": "2dF-GPa4r2CN",
        "outputId": "2d7dc76b-b07f-4ddf-fc76-84cbb0cf72d0"
      },
      "outputs": [
        {
          "name": "stdout",
          "output_type": "stream",
          "text": [
            "      Price\n",
            "0     32.05\n",
            "1     31.63\n",
            "2     32.05\n",
            "3     32.87\n",
            "4     32.72\n",
            "...     ...\n",
            "5574  86.47\n",
            "5575  88.96\n",
            "5576  85.87\n",
            "5577  86.92\n",
            "5578  85.59\n",
            "\n",
            "[5579 rows x 1 columns]\n"
          ]
        }
      ],
      "source": [
        "print(df2)"
      ]
    },
    {
      "cell_type": "code",
      "execution_count": null,
      "metadata": {
        "colab": {
          "base_uri": "https://localhost:8080/",
          "height": 300
        },
        "id": "_BYK4CgoNcQC",
        "outputId": "6d36d4f2-fc5a-4a3d-826e-0be7e8c58c9d"
      },
      "outputs": [
        {
          "data": {
            "text/html": [
              "<div>\n",
              "<style scoped>\n",
              "    .dataframe tbody tr th:only-of-type {\n",
              "        vertical-align: middle;\n",
              "    }\n",
              "\n",
              "    .dataframe tbody tr th {\n",
              "        vertical-align: top;\n",
              "    }\n",
              "\n",
              "    .dataframe thead th {\n",
              "        text-align: right;\n",
              "    }\n",
              "</style>\n",
              "<table border=\"1\" class=\"dataframe\">\n",
              "  <thead>\n",
              "    <tr style=\"text-align: right;\">\n",
              "      <th></th>\n",
              "      <th>Price</th>\n",
              "    </tr>\n",
              "  </thead>\n",
              "  <tbody>\n",
              "    <tr>\n",
              "      <th>count</th>\n",
              "      <td>5579.000000</td>\n",
              "    </tr>\n",
              "    <tr>\n",
              "      <th>mean</th>\n",
              "      <td>63.572345</td>\n",
              "    </tr>\n",
              "    <tr>\n",
              "      <th>std</th>\n",
              "      <td>25.846412</td>\n",
              "    </tr>\n",
              "    <tr>\n",
              "      <th>min</th>\n",
              "      <td>10.010000</td>\n",
              "    </tr>\n",
              "    <tr>\n",
              "      <th>25%</th>\n",
              "      <td>43.880000</td>\n",
              "    </tr>\n",
              "    <tr>\n",
              "      <th>50%</th>\n",
              "      <td>60.660000</td>\n",
              "    </tr>\n",
              "    <tr>\n",
              "      <th>75%</th>\n",
              "      <td>84.865000</td>\n",
              "    </tr>\n",
              "    <tr>\n",
              "      <th>max</th>\n",
              "      <td>145.290000</td>\n",
              "    </tr>\n",
              "  </tbody>\n",
              "</table>\n",
              "</div>"
            ],
            "text/plain": [
              "             Price\n",
              "count  5579.000000\n",
              "mean     63.572345\n",
              "std      25.846412\n",
              "min      10.010000\n",
              "25%      43.880000\n",
              "50%      60.660000\n",
              "75%      84.865000\n",
              "max     145.290000"
            ]
          },
          "execution_count": 12,
          "metadata": {},
          "output_type": "execute_result"
        }
      ],
      "source": [
        "df2.describe()"
      ]
    },
    {
      "cell_type": "markdown",
      "metadata": {
        "id": "hTv3xli9e0yK"
      },
      "source": [
        "# RNN LSTM MACHINE LEARNING - RMSPROP-based"
      ]
    },
    {
      "cell_type": "markdown",
      "metadata": {
        "id": "K4VFbKn_jmWZ"
      },
      "source": [
        "RMSPROP is a type of stochastic gradient descent optimization algorithm commonly used for training neural networks. It is an adaptive learning rate optimization algorithm that uses a moving average of squared gradients to adjust the learning rate during training. It is designed to help mitigate the problems of vanishing or exploding gradients that can occur during trainin"
      ]
    },
    {
      "cell_type": "markdown",
      "metadata": {
        "id": "Cn2JIVq1jmWZ"
      },
      "source": [
        "## RANDOM SEARCH AND BEST MODEL"
      ]
    },
    {
      "cell_type": "code",
      "execution_count": null,
      "metadata": {
        "id": "N_YKEqPSxI8w"
      },
      "outputs": [],
      "source": [
        "import numpy as np\n",
        "import pandas as pd\n",
        "import keras\n",
        "from keras.models import Sequential\n",
        "from keras.layers import LSTM, Dense\n",
        "from sklearn.preprocessing import MinMaxScaler\n",
        "import matplotlib.pyplot as plt\n",
        "from sklearn.metrics import mean_absolute_percentage_error\n",
        "from sklearn.model_selection import RandomizedSearchCV\n",
        "from keras.wrappers.scikit_learn import KerasRegressor\n",
        "import tensorflow as tf\n",
        "import random\n",
        "\n",
        "# Set random seed value\n",
        "np.random.seed(42)\n",
        "tf.random.set_seed(42)\n",
        "\n",
        "# Initialize the MinMaxScaler\n",
        "scaler = MinMaxScaler()\n",
        "\n",
        "scaled_data = scaler.fit_transform(df2.values)\n",
        "\n",
        "# Split the data into training and testing sets\n",
        "train_data = scaled_data[:4463]\n",
        "valid = scaled_data[4463:5021]\n",
        "test_data = scaled_data[5021:]\n",
        "\n",
        "# Define the function to create the input features and labels\n",
        "def create_dataset(data, look_back=1):\n",
        "    X, y = [], []\n",
        "    for i in range(len(data) - look_back - 1):\n",
        "        X.append(data[i:(i+look_back), :])\n",
        "        y.append(data[i+look_back, 0])\n",
        "    return np.array(X), np.array(y).reshape(-1, 1)\n",
        "\n",
        "# Create the training and testing datasets\n",
        "look_back = 1 # use the previous 1 month data as input features\n",
        "X_train, y_train = create_dataset(train_data, look_back)\n",
        "X_test, y_test = create_dataset(test_data, look_back)\n",
        "X_val, y_val = create_dataset(valid, look_back)"
      ]
    },
    {
      "cell_type": "markdown",
      "metadata": {
        "id": "alzGMiDmjmWZ"
      },
      "source": [
        "# 22-day Out of Data Forecast"
      ]
    },
    {
      "cell_type": "code",
      "execution_count": null,
      "metadata": {
        "id": "JWa_82BojmWZ"
      },
      "outputs": [],
      "source": [
        "random.seed(42)\n",
        "\n",
        "# Define the function to create and compile the LSTM model with hyperparameters as inputs\n",
        "def create_model_2(units=50, learning_rate=0.001, activation='relu'):\n",
        "    model = Sequential()\n",
        "    model.add(LSTM(units, input_shape=(look_back, 1), activation=activation)) # units LSTM units, 7 input features\n",
        "    model.add(Dense(1))\n",
        "\n",
        "    optimizer = keras.optimizers.RMSprop(learning_rate=learning_rate)\n",
        "    model.compile(loss=\"mean_absolute_percentage_error\", optimizer=optimizer, metrics=[\"mean_absolute_percentage_error\"])\n",
        "    return model"
      ]
    },
    {
      "cell_type": "code",
      "execution_count": null,
      "metadata": {
        "id": "L0_kH2lbjmWa",
        "outputId": "9f92a67b-b46a-4d83-c2de-b4736518921a"
      },
      "outputs": [
        {
          "name": "stdout",
          "output_type": "stream",
          "text": [
            "Epoch 1/128\n",
            "140/140 - 1s - loss: 52.1739 - mean_absolute_percentage_error: 52.1739 - 1s/epoch - 8ms/step\n",
            "Epoch 2/128\n",
            "140/140 - 0s - loss: 24.5438 - mean_absolute_percentage_error: 24.5438 - 132ms/epoch - 942us/step\n",
            "Epoch 3/128\n",
            "140/140 - 0s - loss: 4.6190 - mean_absolute_percentage_error: 4.6190 - 144ms/epoch - 1ms/step\n",
            "Epoch 4/128\n",
            "140/140 - 0s - loss: 3.1232 - mean_absolute_percentage_error: 3.1232 - 127ms/epoch - 910us/step\n",
            "Epoch 5/128\n",
            "140/140 - 0s - loss: 2.9690 - mean_absolute_percentage_error: 2.9690 - 136ms/epoch - 974us/step\n",
            "Epoch 6/128\n",
            "140/140 - 0s - loss: 2.7947 - mean_absolute_percentage_error: 2.7947 - 133ms/epoch - 953us/step\n",
            "Epoch 7/128\n",
            "140/140 - 0s - loss: 2.7135 - mean_absolute_percentage_error: 2.7135 - 126ms/epoch - 900us/step\n",
            "Epoch 8/128\n",
            "140/140 - 0s - loss: 2.5923 - mean_absolute_percentage_error: 2.5923 - 129ms/epoch - 918us/step\n",
            "Epoch 9/128\n",
            "140/140 - 0s - loss: 2.5132 - mean_absolute_percentage_error: 2.5132 - 124ms/epoch - 889us/step\n",
            "Epoch 10/128\n",
            "140/140 - 0s - loss: 2.4748 - mean_absolute_percentage_error: 2.4748 - 125ms/epoch - 894us/step\n",
            "Epoch 11/128\n",
            "140/140 - 0s - loss: 2.4342 - mean_absolute_percentage_error: 2.4342 - 130ms/epoch - 927us/step\n",
            "Epoch 12/128\n",
            "140/140 - 0s - loss: 2.4179 - mean_absolute_percentage_error: 2.4179 - 130ms/epoch - 930us/step\n",
            "Epoch 13/128\n",
            "140/140 - 0s - loss: 2.4196 - mean_absolute_percentage_error: 2.4196 - 119ms/epoch - 848us/step\n",
            "Epoch 14/128\n",
            "140/140 - 0s - loss: 2.4146 - mean_absolute_percentage_error: 2.4146 - 120ms/epoch - 855us/step\n",
            "Epoch 15/128\n",
            "140/140 - 0s - loss: 2.4084 - mean_absolute_percentage_error: 2.4084 - 128ms/epoch - 917us/step\n",
            "Epoch 16/128\n",
            "140/140 - 0s - loss: 2.3781 - mean_absolute_percentage_error: 2.3781 - 128ms/epoch - 912us/step\n",
            "Epoch 17/128\n",
            "140/140 - 0s - loss: 2.3939 - mean_absolute_percentage_error: 2.3939 - 123ms/epoch - 881us/step\n",
            "Epoch 18/128\n",
            "140/140 - 0s - loss: 2.3754 - mean_absolute_percentage_error: 2.3754 - 129ms/epoch - 920us/step\n",
            "Epoch 19/128\n",
            "140/140 - 0s - loss: 2.3874 - mean_absolute_percentage_error: 2.3874 - 127ms/epoch - 911us/step\n",
            "Epoch 20/128\n",
            "140/140 - 0s - loss: 2.3759 - mean_absolute_percentage_error: 2.3759 - 125ms/epoch - 889us/step\n",
            "Epoch 21/128\n",
            "140/140 - 0s - loss: 2.3733 - mean_absolute_percentage_error: 2.3733 - 133ms/epoch - 952us/step\n",
            "Epoch 22/128\n",
            "140/140 - 0s - loss: 2.3950 - mean_absolute_percentage_error: 2.3950 - 160ms/epoch - 1ms/step\n",
            "Epoch 23/128\n",
            "140/140 - 0s - loss: 2.3701 - mean_absolute_percentage_error: 2.3701 - 135ms/epoch - 965us/step\n",
            "Epoch 24/128\n",
            "140/140 - 0s - loss: 2.3974 - mean_absolute_percentage_error: 2.3974 - 127ms/epoch - 909us/step\n",
            "Epoch 25/128\n",
            "140/140 - 0s - loss: 2.3658 - mean_absolute_percentage_error: 2.3658 - 128ms/epoch - 912us/step\n",
            "Epoch 26/128\n",
            "140/140 - 0s - loss: 2.3784 - mean_absolute_percentage_error: 2.3784 - 125ms/epoch - 890us/step\n",
            "Epoch 27/128\n",
            "140/140 - 0s - loss: 2.3675 - mean_absolute_percentage_error: 2.3675 - 124ms/epoch - 889us/step\n",
            "Epoch 28/128\n",
            "140/140 - 0s - loss: 2.3664 - mean_absolute_percentage_error: 2.3664 - 135ms/epoch - 968us/step\n",
            "Epoch 29/128\n",
            "140/140 - 0s - loss: 2.3770 - mean_absolute_percentage_error: 2.3770 - 125ms/epoch - 895us/step\n",
            "Epoch 30/128\n",
            "140/140 - 0s - loss: 2.3674 - mean_absolute_percentage_error: 2.3674 - 124ms/epoch - 888us/step\n",
            "Epoch 31/128\n",
            "140/140 - 0s - loss: 2.3731 - mean_absolute_percentage_error: 2.3731 - 126ms/epoch - 902us/step\n",
            "Epoch 32/128\n",
            "140/140 - 0s - loss: 2.3830 - mean_absolute_percentage_error: 2.3830 - 124ms/epoch - 886us/step\n",
            "Epoch 33/128\n",
            "140/140 - 0s - loss: 2.3654 - mean_absolute_percentage_error: 2.3654 - 146ms/epoch - 1ms/step\n",
            "Epoch 34/128\n",
            "140/140 - 0s - loss: 2.3913 - mean_absolute_percentage_error: 2.3913 - 137ms/epoch - 980us/step\n",
            "Epoch 35/128\n",
            "140/140 - 0s - loss: 2.3771 - mean_absolute_percentage_error: 2.3771 - 125ms/epoch - 892us/step\n",
            "Epoch 36/128\n",
            "140/140 - 0s - loss: 2.3616 - mean_absolute_percentage_error: 2.3616 - 123ms/epoch - 880us/step\n",
            "Epoch 37/128\n",
            "140/140 - 0s - loss: 2.3625 - mean_absolute_percentage_error: 2.3625 - 120ms/epoch - 855us/step\n",
            "Epoch 38/128\n",
            "140/140 - 0s - loss: 2.3676 - mean_absolute_percentage_error: 2.3676 - 133ms/epoch - 952us/step\n",
            "Epoch 39/128\n",
            "140/140 - 0s - loss: 2.3862 - mean_absolute_percentage_error: 2.3862 - 124ms/epoch - 884us/step\n",
            "Epoch 40/128\n",
            "140/140 - 0s - loss: 2.3548 - mean_absolute_percentage_error: 2.3548 - 122ms/epoch - 871us/step\n",
            "Epoch 41/128\n",
            "140/140 - 0s - loss: 2.3770 - mean_absolute_percentage_error: 2.3770 - 122ms/epoch - 872us/step\n",
            "Epoch 42/128\n",
            "140/140 - 0s - loss: 2.3831 - mean_absolute_percentage_error: 2.3831 - 126ms/epoch - 903us/step\n",
            "Epoch 43/128\n",
            "140/140 - 0s - loss: 2.3800 - mean_absolute_percentage_error: 2.3800 - 121ms/epoch - 866us/step\n",
            "Epoch 44/128\n",
            "140/140 - 0s - loss: 2.3756 - mean_absolute_percentage_error: 2.3756 - 122ms/epoch - 873us/step\n",
            "Epoch 45/128\n",
            "140/140 - 0s - loss: 2.3902 - mean_absolute_percentage_error: 2.3902 - 125ms/epoch - 889us/step\n",
            "Epoch 46/128\n",
            "140/140 - 0s - loss: 2.3819 - mean_absolute_percentage_error: 2.3819 - 130ms/epoch - 930us/step\n",
            "Epoch 47/128\n",
            "140/140 - 0s - loss: 2.3767 - mean_absolute_percentage_error: 2.3767 - 122ms/epoch - 872us/step\n",
            "Epoch 48/128\n",
            "140/140 - 0s - loss: 2.3652 - mean_absolute_percentage_error: 2.3652 - 118ms/epoch - 841us/step\n",
            "Epoch 49/128\n",
            "140/140 - 0s - loss: 2.3454 - mean_absolute_percentage_error: 2.3454 - 144ms/epoch - 1ms/step\n",
            "Epoch 50/128\n",
            "140/140 - 0s - loss: 2.3866 - mean_absolute_percentage_error: 2.3866 - 114ms/epoch - 815us/step\n",
            "Epoch 51/128\n",
            "140/140 - 0s - loss: 2.3574 - mean_absolute_percentage_error: 2.3574 - 124ms/epoch - 883us/step\n",
            "Epoch 52/128\n",
            "140/140 - 0s - loss: 2.3884 - mean_absolute_percentage_error: 2.3884 - 122ms/epoch - 872us/step\n",
            "Epoch 53/128\n",
            "140/140 - 0s - loss: 2.3602 - mean_absolute_percentage_error: 2.3602 - 127ms/epoch - 910us/step\n",
            "Epoch 54/128\n",
            "140/140 - 0s - loss: 2.3634 - mean_absolute_percentage_error: 2.3634 - 125ms/epoch - 891us/step\n",
            "Epoch 55/128\n",
            "140/140 - 0s - loss: 2.3639 - mean_absolute_percentage_error: 2.3639 - 124ms/epoch - 887us/step\n",
            "Epoch 56/128\n",
            "140/140 - 0s - loss: 2.3701 - mean_absolute_percentage_error: 2.3701 - 128ms/epoch - 911us/step\n",
            "Epoch 57/128\n",
            "140/140 - 0s - loss: 2.3990 - mean_absolute_percentage_error: 2.3990 - 141ms/epoch - 1ms/step\n",
            "Epoch 58/128\n",
            "140/140 - 0s - loss: 2.3732 - mean_absolute_percentage_error: 2.3732 - 120ms/epoch - 855us/step\n",
            "Epoch 59/128\n",
            "140/140 - 0s - loss: 2.3790 - mean_absolute_percentage_error: 2.3790 - 133ms/epoch - 952us/step\n",
            "Epoch 60/128\n",
            "140/140 - 0s - loss: 2.3617 - mean_absolute_percentage_error: 2.3617 - 125ms/epoch - 890us/step\n",
            "Epoch 61/128\n",
            "140/140 - 0s - loss: 2.4009 - mean_absolute_percentage_error: 2.4009 - 118ms/epoch - 844us/step\n",
            "Epoch 62/128\n",
            "140/140 - 0s - loss: 2.3495 - mean_absolute_percentage_error: 2.3495 - 136ms/epoch - 970us/step\n",
            "Epoch 63/128\n",
            "140/140 - 0s - loss: 2.3715 - mean_absolute_percentage_error: 2.3715 - 128ms/epoch - 913us/step\n",
            "Epoch 64/128\n",
            "140/140 - 0s - loss: 2.3759 - mean_absolute_percentage_error: 2.3759 - 122ms/epoch - 871us/step\n",
            "Epoch 65/128\n",
            "140/140 - 0s - loss: 2.3566 - mean_absolute_percentage_error: 2.3566 - 133ms/epoch - 952us/step\n",
            "Epoch 66/128\n",
            "140/140 - 0s - loss: 2.3884 - mean_absolute_percentage_error: 2.3884 - 109ms/epoch - 777us/step\n",
            "Epoch 67/128\n",
            "140/140 - 0s - loss: 2.3634 - mean_absolute_percentage_error: 2.3634 - 138ms/epoch - 983us/step\n",
            "Epoch 68/128\n",
            "140/140 - 0s - loss: 2.3471 - mean_absolute_percentage_error: 2.3471 - 125ms/epoch - 890us/step\n",
            "Epoch 69/128\n",
            "140/140 - 0s - loss: 2.3734 - mean_absolute_percentage_error: 2.3734 - 114ms/epoch - 817us/step\n",
            "Epoch 70/128\n",
            "140/140 - 0s - loss: 2.3536 - mean_absolute_percentage_error: 2.3536 - 134ms/epoch - 956us/step\n",
            "Epoch 71/128\n",
            "140/140 - 0s - loss: 2.3777 - mean_absolute_percentage_error: 2.3777 - 114ms/epoch - 817us/step\n",
            "Epoch 72/128\n",
            "140/140 - 0s - loss: 2.3750 - mean_absolute_percentage_error: 2.3750 - 134ms/epoch - 957us/step\n",
            "Epoch 73/128\n",
            "140/140 - 0s - loss: 2.4012 - mean_absolute_percentage_error: 2.4012 - 135ms/epoch - 966us/step\n",
            "Epoch 74/128\n",
            "140/140 - 0s - loss: 2.3674 - mean_absolute_percentage_error: 2.3674 - 124ms/epoch - 889us/step\n",
            "Epoch 75/128\n",
            "140/140 - 0s - loss: 2.3708 - mean_absolute_percentage_error: 2.3708 - 136ms/epoch - 974us/step\n",
            "Epoch 76/128\n",
            "140/140 - 0s - loss: 2.3689 - mean_absolute_percentage_error: 2.3689 - 132ms/epoch - 946us/step\n",
            "Epoch 77/128\n",
            "140/140 - 0s - loss: 2.3611 - mean_absolute_percentage_error: 2.3611 - 140ms/epoch - 998us/step\n",
            "Epoch 78/128\n",
            "140/140 - 0s - loss: 2.3807 - mean_absolute_percentage_error: 2.3807 - 114ms/epoch - 814us/step\n",
            "Epoch 79/128\n",
            "140/140 - 0s - loss: 2.3671 - mean_absolute_percentage_error: 2.3671 - 138ms/epoch - 985us/step\n",
            "Epoch 80/128\n",
            "140/140 - 0s - loss: 2.3720 - mean_absolute_percentage_error: 2.3720 - 123ms/epoch - 877us/step\n",
            "Epoch 81/128\n",
            "140/140 - 0s - loss: 2.3586 - mean_absolute_percentage_error: 2.3586 - 124ms/epoch - 883us/step\n",
            "Epoch 82/128\n",
            "140/140 - 0s - loss: 2.3734 - mean_absolute_percentage_error: 2.3734 - 108ms/epoch - 772us/step\n",
            "Epoch 83/128\n",
            "140/140 - 0s - loss: 2.3551 - mean_absolute_percentage_error: 2.3551 - 123ms/epoch - 881us/step\n",
            "Epoch 84/128\n",
            "140/140 - 0s - loss: 2.3488 - mean_absolute_percentage_error: 2.3488 - 122ms/epoch - 869us/step\n",
            "Epoch 85/128\n",
            "140/140 - 0s - loss: 2.3636 - mean_absolute_percentage_error: 2.3636 - 117ms/epoch - 837us/step\n",
            "Epoch 86/128\n",
            "140/140 - 0s - loss: 2.3734 - mean_absolute_percentage_error: 2.3734 - 127ms/epoch - 906us/step\n",
            "Epoch 87/128\n",
            "140/140 - 0s - loss: 2.3852 - mean_absolute_percentage_error: 2.3852 - 120ms/epoch - 855us/step\n",
            "Epoch 88/128\n",
            "140/140 - 0s - loss: 2.3800 - mean_absolute_percentage_error: 2.3800 - 124ms/epoch - 887us/step\n",
            "Epoch 89/128\n",
            "140/140 - 0s - loss: 2.3693 - mean_absolute_percentage_error: 2.3693 - 113ms/epoch - 810us/step\n",
            "Epoch 90/128\n",
            "140/140 - 0s - loss: 2.3420 - mean_absolute_percentage_error: 2.3420 - 129ms/epoch - 924us/step\n",
            "Epoch 91/128\n",
            "140/140 - 0s - loss: 2.3936 - mean_absolute_percentage_error: 2.3936 - 120ms/epoch - 859us/step\n",
            "Epoch 92/128\n",
            "140/140 - 0s - loss: 2.3600 - mean_absolute_percentage_error: 2.3600 - 117ms/epoch - 833us/step\n",
            "Epoch 93/128\n",
            "140/140 - 0s - loss: 2.3812 - mean_absolute_percentage_error: 2.3812 - 133ms/epoch - 949us/step\n",
            "Epoch 94/128\n",
            "140/140 - 0s - loss: 2.3767 - mean_absolute_percentage_error: 2.3767 - 124ms/epoch - 887us/step\n",
            "Epoch 95/128\n",
            "140/140 - 0s - loss: 2.3663 - mean_absolute_percentage_error: 2.3663 - 119ms/epoch - 853us/step\n",
            "Epoch 96/128\n",
            "140/140 - 0s - loss: 2.3739 - mean_absolute_percentage_error: 2.3739 - 117ms/epoch - 832us/step\n",
            "Epoch 97/128\n",
            "140/140 - 0s - loss: 2.3601 - mean_absolute_percentage_error: 2.3601 - 133ms/epoch - 949us/step\n",
            "Epoch 98/128\n",
            "140/140 - 0s - loss: 2.3503 - mean_absolute_percentage_error: 2.3503 - 128ms/epoch - 911us/step\n",
            "Epoch 99/128\n",
            "140/140 - 0s - loss: 2.3996 - mean_absolute_percentage_error: 2.3996 - 123ms/epoch - 877us/step\n",
            "Epoch 100/128\n",
            "140/140 - 0s - loss: 2.3672 - mean_absolute_percentage_error: 2.3672 - 124ms/epoch - 889us/step\n",
            "Epoch 101/128\n",
            "140/140 - 0s - loss: 2.3749 - mean_absolute_percentage_error: 2.3749 - 114ms/epoch - 815us/step\n",
            "Epoch 102/128\n",
            "140/140 - 0s - loss: 2.3823 - mean_absolute_percentage_error: 2.3823 - 132ms/epoch - 946us/step\n",
            "Epoch 103/128\n",
            "140/140 - 0s - loss: 2.3785 - mean_absolute_percentage_error: 2.3785 - 125ms/epoch - 894us/step\n",
            "Epoch 104/128\n",
            "140/140 - 0s - loss: 2.3859 - mean_absolute_percentage_error: 2.3859 - 122ms/epoch - 874us/step\n",
            "Epoch 105/128\n",
            "140/140 - 0s - loss: 2.3538 - mean_absolute_percentage_error: 2.3538 - 115ms/epoch - 819us/step\n",
            "Epoch 106/128\n",
            "140/140 - 0s - loss: 2.3633 - mean_absolute_percentage_error: 2.3633 - 137ms/epoch - 979us/step\n",
            "Epoch 107/128\n",
            "140/140 - 0s - loss: 2.3433 - mean_absolute_percentage_error: 2.3433 - 124ms/epoch - 888us/step\n",
            "Epoch 108/128\n",
            "140/140 - 0s - loss: 2.3734 - mean_absolute_percentage_error: 2.3734 - 123ms/epoch - 882us/step\n",
            "Epoch 109/128\n",
            "140/140 - 0s - loss: 2.3825 - mean_absolute_percentage_error: 2.3825 - 108ms/epoch - 772us/step\n",
            "Epoch 110/128\n",
            "140/140 - 0s - loss: 2.3694 - mean_absolute_percentage_error: 2.3694 - 123ms/epoch - 876us/step\n",
            "Epoch 111/128\n",
            "140/140 - 0s - loss: 2.3832 - mean_absolute_percentage_error: 2.3832 - 124ms/epoch - 885us/step\n",
            "Epoch 112/128\n",
            "140/140 - 0s - loss: 2.3752 - mean_absolute_percentage_error: 2.3752 - 123ms/epoch - 880us/step\n",
            "Epoch 113/128\n",
            "140/140 - 0s - loss: 2.3615 - mean_absolute_percentage_error: 2.3615 - 108ms/epoch - 770us/step\n",
            "Epoch 114/128\n",
            "140/140 - 0s - loss: 2.3577 - mean_absolute_percentage_error: 2.3577 - 130ms/epoch - 931us/step\n",
            "Epoch 115/128\n",
            "140/140 - 0s - loss: 2.3743 - mean_absolute_percentage_error: 2.3743 - 131ms/epoch - 934us/step\n",
            "Epoch 116/128\n",
            "140/140 - 0s - loss: 2.3624 - mean_absolute_percentage_error: 2.3624 - 123ms/epoch - 877us/step\n",
            "Epoch 117/128\n",
            "140/140 - 0s - loss: 2.3522 - mean_absolute_percentage_error: 2.3522 - 121ms/epoch - 862us/step\n",
            "Epoch 118/128\n",
            "140/140 - 0s - loss: 2.3617 - mean_absolute_percentage_error: 2.3617 - 126ms/epoch - 902us/step\n",
            "Epoch 119/128\n",
            "140/140 - 0s - loss: 2.3748 - mean_absolute_percentage_error: 2.3748 - 122ms/epoch - 869us/step\n",
            "Epoch 120/128\n",
            "140/140 - 0s - loss: 2.3723 - mean_absolute_percentage_error: 2.3723 - 128ms/epoch - 913us/step\n",
            "Epoch 121/128\n",
            "140/140 - 0s - loss: 2.3748 - mean_absolute_percentage_error: 2.3748 - 117ms/epoch - 835us/step\n",
            "Epoch 122/128\n",
            "140/140 - 0s - loss: 2.3784 - mean_absolute_percentage_error: 2.3784 - 128ms/epoch - 916us/step\n",
            "Epoch 123/128\n",
            "140/140 - 0s - loss: 2.3698 - mean_absolute_percentage_error: 2.3698 - 124ms/epoch - 883us/step\n",
            "Epoch 124/128\n",
            "140/140 - 0s - loss: 2.3602 - mean_absolute_percentage_error: 2.3602 - 108ms/epoch - 769us/step\n",
            "Epoch 125/128\n",
            "140/140 - 0s - loss: 2.3627 - mean_absolute_percentage_error: 2.3627 - 127ms/epoch - 910us/step\n",
            "Epoch 126/128\n",
            "140/140 - 0s - loss: 2.3726 - mean_absolute_percentage_error: 2.3726 - 119ms/epoch - 849us/step\n",
            "Epoch 127/128\n",
            "140/140 - 0s - loss: 2.3653 - mean_absolute_percentage_error: 2.3653 - 117ms/epoch - 832us/step\n",
            "Epoch 128/128\n",
            "140/140 - 0s - loss: 2.3722 - mean_absolute_percentage_error: 2.3722 - 132ms/epoch - 943us/step\n"
          ]
        },
        {
          "data": {
            "text/plain": [
              "<keras.callbacks.History at 0x1bb875aac40>"
            ]
          },
          "execution_count": 15,
          "metadata": {},
          "output_type": "execute_result"
        }
      ],
      "source": [
        "# Use the best hyperparameters obtained from the random search to train the LSTM model and make predictions on the test set\n",
        "best_model2 = create_model_2(units=50, learning_rate=0.001, activation='relu')\n",
        "\n",
        "# Fit the model with the training data\n",
        "best_model2.fit(X_train, y_train, epochs=128, batch_size=32, verbose=2)"
      ]
    },
    {
      "cell_type": "code",
      "execution_count": null,
      "metadata": {
        "scrolled": true,
        "id": "ld1_bthFjmWa",
        "outputId": "044d321a-3f9c-4cb5-ecca-9c1f997fcca9"
      },
      "outputs": [
        {
          "name": "stdout",
          "output_type": "stream",
          "text": [
            "175/175 [==============================] - 0s 767us/step\n",
            "Predicted values for the new data: [31.79998154 31.382205   31.79998154 ... 85.8474093  88.31625162\n",
            " 85.25244944]\n"
          ]
        }
      ],
      "source": [
        "# Load the new data\n",
        "new_data = df2\n",
        "\n",
        "# Scale the new data using the same scaler as the training data\n",
        "scaled_new_data = scaler.transform(new_data.values)\n",
        "\n",
        "# Create input features for the new data\n",
        "X_new, y_new = create_dataset(scaled_new_data, look_back)\n",
        "\n",
        "# Use the trained model to make predictions on the new data\n",
        "y_pred_new = best_model2.predict(X_new)\n",
        "\n",
        "# Inverse transform the predictions to get the actual values\n",
        "y_pred_new = scaler.inverse_transform(np.concatenate((y_pred_new, np.zeros((len(y_pred_new), 0))), axis=1))[:, 0]\n",
        "\n",
        "# Print the predicted values\n",
        "print(\"Predicted values for the new data:\", y_pred_new)\n"
      ]
    },
    {
      "cell_type": "code",
      "execution_count": null,
      "metadata": {
        "id": "Ug3ann3hjmWb",
        "outputId": "601c24dc-82cf-48ba-c796-b7dfa50a3e84"
      },
      "outputs": [
        {
          "name": "stdout",
          "output_type": "stream",
          "text": [
            "Mean Absolute Percentage Error: 0.13268084270588376\n",
            "Mean Absolute Error: 9.980485352602877\n",
            "Root Mean Squared Error: 11.015373907783065\n"
          ]
        }
      ],
      "source": [
        "# Get the corresponding last 22 days of y_pred_new\n",
        "y_pred_new_last_5_days = y_pred_new[-5:]\n",
        "from sklearn.metrics import mean_absolute_error, mean_squared_error\n",
        "\n",
        "OutofSample = pd.read_csv('C:/Users/Tamara/Downloads/Outofdata.csv')\n",
        "\n",
        "# Calculate mean absolute percentage error (MAPE)\n",
        "mape_new = mean_absolute_percentage_error(OutofSample, y_pred_new_last_22_days)\n",
        "print(\"Mean Absolute Percentage Error:\", mape_new)\n",
        "\n",
        "# Calculate mean absolute error (MAE)\n",
        "mae_new = mean_absolute_error(OutofSample, y_pred_new_last_22_days)\n",
        "print(\"Mean Absolute Error:\", mae_new)\n",
        "\n",
        "# Calculate root mean squared error (RMSE)\n",
        "rmse_new = mean_squared_error(OutofSample, y_pred_new_last_22_days, squared=False)\n",
        "print(\"Root Mean Squared Error:\", rmse_new)"
      ]
    },
    {
      "cell_type": "code",
      "execution_count": null,
      "metadata": {
        "id": "rVh-1HBrjmWb",
        "outputId": "fd570d06-ce44-49f5-9714-3ca279e836d1"
      },
      "outputs": [
        {
          "data": {
            "text/plain": [
              "<matplotlib.legend.Legend at 0x1bb8ac76580>"
            ]
          },
          "execution_count": 20,
          "metadata": {},
          "output_type": "execute_result"
        },
        {
          "data": {
            "image/png": "[encoded data removed]",
            "text/plain": [
              "<Figure size 640x480 with 1 Axes>"
            ]
          },
          "metadata": {},
          "output_type": "display_data"
        }
      ],
      "source": [
        "# Plot the actual vs predicted values\n",
        "plt.plot(Outofdata, label=\"Actual\")\n",
        "plt.plot(y_pred_new_last_22_days, label=\"Predicted\")\n",
        "plt.legend()\n",
        "plt.title('22-day Forecast Crude Oil Prices Actual and Predicted')\n",
        "\n",
        "# Add legend and show the plot\n",
        "plt.legend()\n"
      ]
    },
    {
      "cell_type": "code",
      "execution_count": null,
      "metadata": {
        "id": "j1KcsKtojmWb"
      },
      "outputs": [],
      "source": [
        "# Convert y_pred to a DataFrame\n",
        "y_pred_new_last_22_days = pd.DataFrame(y_pred_new_last_22_days, columns=['Predicted Price'])\n",
        "\n",
        "# Save the DataFrame to an Excel file\n",
        "y_pred_new_last_22_days.to_excel('22 days prediction.xlsx', index=False)"
      ]
    },
    {
      "cell_type": "code",
      "execution_count": null,
      "metadata": {
        "id": "AuwIVPIGjmWb",
        "outputId": "9ce34ade-1b11-47b8-d1c9-9f4fa71207e8"
      },
      "outputs": [
        {
          "data": {
            "text/plain": [
              "array([84.99463296, 84.84588896, 82.22775434, 84.93514181, 85.36152998,\n",
              "       84.43931236, 83.97322042, 84.70705478, 87.27521297, 88.43521779,\n",
              "       87.2652951 , 85.90690851, 87.73129834, 89.34730788, 87.5329972 ,\n",
              "       91.93457613, 91.12175353, 88.26667835, 85.21278598, 85.8474093 ,\n",
              "       88.31625162, 85.25244944])"
            ]
          },
          "execution_count": 21,
          "metadata": {},
          "output_type": "execute_result"
        }
      ],
      "source": [
        "y_pred_new_last_22_days"
      ]
    },
    {
      "cell_type": "code",
      "execution_count": null,
      "metadata": {
        "id": "-IfsdDfrjmWc",
        "outputId": "c5007741-c050-4089-f2bc-b6aa789e6018"
      },
      "outputs": [
        {
          "name": "stdout",
          "output_type": "stream",
          "text": [
            "Mean Absolute Percentage Error: 0.09645076289615276\n",
            "Mean Absolute Error: 7.5831149377822955\n",
            "Root Mean Squared Error: 7.864333525309251\n"
          ]
        }
      ],
      "source": [
        "# Get the corresponding last 5 days of y_pred_new\n",
        "y_pred_new_last_5_days = y_pred_new[-5:]\n",
        "from sklearn.metrics import mean_absolute_error, mean_squared_error\n",
        "\n",
        "# Calculate mean absolute percentage error (MAPE)\n",
        "mape_new = mean_absolute_percentage_error(OutofSample[:5], y_pred_new_last_5_days)\n",
        "print(\"Mean Absolute Percentage Error:\", mape_new)\n",
        "\n",
        "# Calculate mean absolute error (MAE)\n",
        "mae_new = mean_absolute_error(OutofSample[:5], y_pred_new_last_5_days)\n",
        "print(\"Mean Absolute Error:\", mae_new)\n",
        "\n",
        "# Calculate root mean squared error (RMSE)\n",
        "rmse_new = mean_squared_error(OutofSample[:5], y_pred_new_last_5_days, squared=False)\n",
        "print(\"Root Mean Squared Error:\", rmse_new)"
      ]
    },
    {
      "cell_type": "code",
      "execution_count": null,
      "metadata": {
        "id": "LfBFga6DjmWc"
      },
      "outputs": [],
      "source": []
    }
  ],
  "metadata": {
    "colab": {
      "provenance": [],
      "toc_visible": true
    },
    "kernelspec": {
      "display_name": "Python 3 (ipykernel)",
      "language": "python",
      "name": "python3"
    },
    "language_info": {
      "codemirror_mode": {
        "name": "ipython",
        "version": 3
      },
      "file_extension": ".py",
      "mimetype": "text/x-python",
      "name": "python",
      "nbconvert_exporter": "python",
      "pygments_lexer": "ipython3",
      "version": "3.9.13"
    }
  },
  "nbformat": 4,
  "nbformat_minor": 0
}